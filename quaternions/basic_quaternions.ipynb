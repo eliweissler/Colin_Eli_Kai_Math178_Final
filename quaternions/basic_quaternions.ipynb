{
 "cells": [
  {
   "cell_type": "code",
   "execution_count": 59,
   "metadata": {},
   "outputs": [],
   "source": [
    "from pyquaternion import Quaternion\n",
    "\n",
    "import numpy as np\n",
    "from numpy import random\n",
    "from numpy.linalg import norm\n",
    "\n",
    "import pandas as pd\n",
    "\n",
    "from scipy import stats\n",
    "\n",
    "import matplotlib.pyplot as plt"
   ]
  },
  {
   "cell_type": "code",
   "execution_count": 69,
   "metadata": {},
   "outputs": [
    {
     "data": {
      "text/plain": [
       "array([ 0.00575225, -0.01139578, -0.99037695])"
      ]
     },
     "execution_count": 69,
     "metadata": {},
     "output_type": "execute_result"
    }
   ],
   "source": [
    "# example vectors, imagine this is aceeleartion at time t\n",
    "u = np.array([1/np.sqrt(3), 1/np.sqrt(3), 1/np.sqrt(3)]) # vector to rotate\n",
    "\n",
    "#vector with (small) some noise\n",
    "u_test = u + stats.norm.rvs(0, 0.01 , size=3 )\n",
    "\n",
    "\n",
    "# vector to align to (e.g. gravity)\n",
    "v = np.array([0, 0, -1])\n",
    "\n",
    "# angle between vectors\n",
    "theta = np.arccos(np.dot(u,v)/(norm(u)*norm(v)))\n",
    "\n",
    "# find axis perpendicular to u and v (cross product) to rotate about\n",
    "r = np.cross(u,v)\n",
    "# rotation axis must be a unit vector\n",
    "r = r/norm(r)\n",
    "\n",
    "# quaternion to rotate [0,ux,uy,uz]\n",
    "# p = /np.concatenate(([0], u_test))\n",
    "p = Quaternion(imaginary = u_test)\n",
    "\n",
    "\n",
    "# quaternion rotation matrix, rotates angle theta about axis r\n",
    "q = Quaternion(axis=r, angle = theta)\n",
    "q_u_new = (q*p)*q.conjugate\n",
    "\n",
    "u_new = q_u_new.imaginary\n",
    "u_new"
   ]
  },
  {
   "cell_type": "code",
   "execution_count": null,
   "metadata": {},
   "outputs": [],
   "source": []
  }
 ],
 "metadata": {
  "kernelspec": {
   "display_name": "Python 3",
   "language": "python",
   "name": "python3"
  },
  "language_info": {
   "codemirror_mode": {
    "name": "ipython",
    "version": 3
   },
   "file_extension": ".py",
   "mimetype": "text/x-python",
   "name": "python",
   "nbconvert_exporter": "python",
   "pygments_lexer": "ipython3",
   "version": "3.7.7"
  }
 },
 "nbformat": 4,
 "nbformat_minor": 4
}
